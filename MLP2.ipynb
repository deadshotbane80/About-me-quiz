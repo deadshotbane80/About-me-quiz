{
  "nbformat": 4,
  "nbformat_minor": 0,
  "metadata": {
    "colab": {
      "provenance": [],
      "authorship_tag": "ABX9TyM7x35KLj/FJnDIDcgEWWK/",
      "include_colab_link": true
    },
    "kernelspec": {
      "name": "python3",
      "display_name": "Python 3"
    },
    "language_info": {
      "name": "python"
    }
  },
  "cells": [
    {
      "cell_type": "markdown",
      "metadata": {
        "id": "view-in-github",
        "colab_type": "text"
      },
      "source": [
        "<a href=\"https://colab.research.google.com/github/deadshotbane80/About-me-quiz/blob/main/MLP2.ipynb\" target=\"_parent\"><img src=\"https://colab.research.google.com/assets/colab-badge.svg\" alt=\"Open In Colab\"/></a>"
      ]
    },
    {
      "cell_type": "code",
      "execution_count": null,
      "metadata": {
        "id": "tBXfFaJhBy_5"
      },
      "outputs": [],
      "source": [
        "import torch\n",
        "import torch.nn.functional as F\n",
        "import matplotlib.pyplot as plt # for making figures\n",
        "%matplotlib inline"
      ]
    },
    {
      "cell_type": "code",
      "source": [
        "words = open('names.txt','r').read().splitlines()\n",
        "len(words)"
      ],
      "metadata": {
        "colab": {
          "base_uri": "https://localhost:8080/"
        },
        "id": "NgoC1EriCt1w",
        "outputId": "4c5eb867-545d-4773-972d-83cad0f6dd1f"
      },
      "execution_count": null,
      "outputs": [
        {
          "output_type": "execute_result",
          "data": {
            "text/plain": [
              "32033"
            ]
          },
          "metadata": {},
          "execution_count": 61
        }
      ]
    },
    {
      "cell_type": "code",
      "source": [
        "chars = sorted(list(set(''.join(words))))\n",
        "stoi = {s:i+1 for i,s in enumerate(chars)}\n",
        "stoi['.'] = 0\n",
        "itos = {i:s for s,i in stoi.items()}\n",
        "itos"
      ],
      "metadata": {
        "id": "N2tKOeBeDrdC",
        "colab": {
          "base_uri": "https://localhost:8080/"
        },
        "outputId": "7e0794ac-5151-454c-f0c4-7358e0ae5353"
      },
      "execution_count": null,
      "outputs": [
        {
          "output_type": "execute_result",
          "data": {
            "text/plain": [
              "{1: 'a',\n",
              " 2: 'b',\n",
              " 3: 'c',\n",
              " 4: 'd',\n",
              " 5: 'e',\n",
              " 6: 'f',\n",
              " 7: 'g',\n",
              " 8: 'h',\n",
              " 9: 'i',\n",
              " 10: 'j',\n",
              " 11: 'k',\n",
              " 12: 'l',\n",
              " 13: 'm',\n",
              " 14: 'n',\n",
              " 15: 'o',\n",
              " 16: 'p',\n",
              " 17: 'q',\n",
              " 18: 'r',\n",
              " 19: 's',\n",
              " 20: 't',\n",
              " 21: 'u',\n",
              " 22: 'v',\n",
              " 23: 'w',\n",
              " 24: 'x',\n",
              " 25: 'y',\n",
              " 26: 'z',\n",
              " 0: '.'}"
            ]
          },
          "metadata": {},
          "execution_count": 62
        }
      ]
    },
    {
      "cell_type": "code",
      "source": [
        "#Dataset creation\n",
        "X,Y = [],[]\n",
        "block_size = 3\n",
        "for word in words:\n",
        "  context = [0]*block_size\n",
        "  # print(word)\n",
        "  for w in word + '.':\n",
        "    ix = stoi[w]\n",
        "    X.append(context)\n",
        "    Y.append(ix)\n",
        "    # print(''.join(itos[i] for i in context) + ' ---> ' + w)\n",
        "    context = context[1:] + [ix]\n",
        "\n",
        "X = torch.tensor(X)\n",
        "Y = torch.tensor(Y)"
      ],
      "metadata": {
        "id": "H3FwON1aEGhj"
      },
      "execution_count": null,
      "outputs": []
    },
    {
      "cell_type": "code",
      "source": [
        "# build the dataset\n",
        "block_size = 3 # context length: how many characters do we take to predict the next one?\n",
        "\n",
        "def build_dataset(words):\n",
        "  X, Y = [], []\n",
        "  for w in words:\n",
        "\n",
        "    #print(w)\n",
        "    context = [0] * block_size\n",
        "    for ch in w + '.':\n",
        "      ix = stoi[ch]\n",
        "      X.append(context)\n",
        "      Y.append(ix)\n",
        "      #print(''.join(itos[i] for i in context), '--->', itos[ix])\n",
        "      context = context[1:] + [ix] # crop and append\n",
        "\n",
        "  X = torch.tensor(X)\n",
        "  Y = torch.tensor(Y)\n",
        "\n",
        "  return X, Y\n",
        "\n",
        "import random\n",
        "random.seed(42)\n",
        "random.shuffle(words)\n",
        "n1 = int(0.8*len(words))\n",
        "n2 = int(0.9*len(words))\n",
        "\n",
        "Xtr, Ytr = build_dataset(words[:n1])\n",
        "Xdev, Ydev = build_dataset(words[n1:n2])\n",
        "Xte, Yte = build_dataset(words[n2:])"
      ],
      "metadata": {
        "id": "wt3CA7I-deQW"
      },
      "execution_count": null,
      "outputs": []
    },
    {
      "cell_type": "code",
      "source": [
        "g = torch.Generator().manual_seed(2147483647)\n",
        "i = 200\n",
        "z = 10\n",
        "y = 3*z\n",
        "C = torch.randn((27,z),generator = g)\n",
        "w1 = torch.randn((y,i),generator = g)\n",
        "b1 = torch.randn((i),generator = g)\n",
        "w2 = torch.randn((i,27),generator = g)\n",
        "b2 = torch.randn((27),generator = g)\n",
        "parameters = [C,w1,b1,w2,b2]\n"
      ],
      "metadata": {
        "id": "_eOzqEKjFSEv"
      },
      "execution_count": null,
      "outputs": []
    },
    {
      "cell_type": "code",
      "source": [
        "sum(p.nelement() for p in parameters)"
      ],
      "metadata": {
        "colab": {
          "base_uri": "https://localhost:8080/"
        },
        "id": "p9MJZu77KRQ2",
        "outputId": "94b4dbec-b37a-408f-9168-f34ceb2f19f5"
      },
      "execution_count": null,
      "outputs": [
        {
          "output_type": "execute_result",
          "data": {
            "text/plain": [
              "11897"
            ]
          },
          "metadata": {},
          "execution_count": 277
        }
      ]
    },
    {
      "cell_type": "code",
      "source": [
        "for p in parameters:\n",
        "  p.requires_grad = True"
      ],
      "metadata": {
        "id": "ZDlZPtSdKF6Y"
      },
      "execution_count": null,
      "outputs": []
    },
    {
      "cell_type": "code",
      "source": [
        "lre = torch.linspace(-3,0,1000)\n",
        "lrs = 10**lre\n"
      ],
      "metadata": {
        "id": "Dj7-yCZpTy7K"
      },
      "execution_count": null,
      "outputs": []
    },
    {
      "cell_type": "code",
      "source": [
        "#Forward Propagation\n",
        "# lr = []\n",
        "# lossa = []\n",
        "for i in range(300000):\n",
        "  batch = torch.randint(0,Xtr.shape[0],(32,))\n",
        "  emb = C[Xtr[batch]]\n",
        "  h = torch.tanh((emb.view(-1,y) @ w1) + b1)\n",
        "  logits = (h @ w2) + b2\n",
        "  loss = F.cross_entropy(logits,Ytr[batch])\n",
        "  # print(loss.item())\n",
        "\n",
        "#Backward Propagation\n",
        "  for p in parameters:\n",
        "    p.grad = None\n",
        "  loss.backward()\n",
        "\n",
        "  lri = 0.1 if i < 200000 else 0.01\n",
        "  for p in parameters:\n",
        "    if p.grad == None:\n",
        "      p.data += -lri * 0.0\n",
        "    else:\n",
        "      p.data += -lri * p.grad\n",
        "  # lr.append(lre[i])\n",
        "  # lossa.append(loss.item())\n",
        "# print(loss.item())"
      ],
      "metadata": {
        "id": "3JVvkrfxHV4O"
      },
      "execution_count": null,
      "outputs": []
    },
    {
      "cell_type": "code",
      "source": [
        "print(loss.item())"
      ],
      "metadata": {
        "colab": {
          "base_uri": "https://localhost:8080/"
        },
        "id": "CAzdFFoSVgf0",
        "outputId": "9dcb3679-f995-4bb3-e0db-acab98b9d56d"
      },
      "execution_count": null,
      "outputs": [
        {
          "output_type": "stream",
          "name": "stdout",
          "text": [
            "2.2122182846069336\n"
          ]
        }
      ]
    },
    {
      "cell_type": "code",
      "source": [
        "emb = C[Xtr]\n",
        "h = torch.tanh((emb.view(-1,y) @ w1) + b1)\n",
        "logits = (h @ w2) + b2\n",
        "loss = F.cross_entropy(logits,Ytr)\n",
        "loss"
      ],
      "metadata": {
        "colab": {
          "base_uri": "https://localhost:8080/"
        },
        "id": "57CJf6wVfL7w",
        "outputId": "e8cb4813-4ae3-4437-a28b-68d48d722e6c"
      },
      "execution_count": null,
      "outputs": [
        {
          "output_type": "execute_result",
          "data": {
            "text/plain": [
              "tensor(2.0788, grad_fn=<NllLossBackward0>)"
            ]
          },
          "metadata": {},
          "execution_count": 281
        }
      ]
    },
    {
      "cell_type": "code",
      "source": [
        "emb = C[Xdev]\n",
        "h = torch.tanh((emb.view(-1,y) @ w1) + b1)\n",
        "logits = (h @ w2) + b2\n",
        "loss = F.cross_entropy(logits,Ydev )\n",
        "loss"
      ],
      "metadata": {
        "colab": {
          "base_uri": "https://localhost:8080/"
        },
        "id": "KMF6RaFqSfv8",
        "outputId": "193461bd-8a58-45be-826e-aab3589c7f5f"
      },
      "execution_count": null,
      "outputs": [
        {
          "output_type": "execute_result",
          "data": {
            "text/plain": [
              "tensor(2.1464, grad_fn=<NllLossBackward0>)"
            ]
          },
          "metadata": {},
          "execution_count": 282
        }
      ]
    },
    {
      "cell_type": "code",
      "source": [
        "g = torch.Generator().manual_seed(2147483647 + 10)\n",
        "for _ in range(30):\n",
        "  out = []\n",
        "  context = [0] * block_size\n",
        "  while True:\n",
        "    emb = C[torch.tensor([context])]\n",
        "    h = torch.tanh((emb.view(1,-1) @ w1) + b1)\n",
        "    logits = (h @ w2) + b2\n",
        "    probs = F.softmax(logits,dim=1)\n",
        "    ix = torch.multinomial(probs,num_samples = 1,generator = g).item()\n",
        "    context = context[1:] + [ix]\n",
        "    out.append(itos[ix])\n",
        "    if ix == 0:\n",
        "      break\n",
        "  print(''.join(i for i in out))"
      ],
      "metadata": {
        "colab": {
          "base_uri": "https://localhost:8080/"
        },
        "id": "eRBuV3jBjRAv",
        "outputId": "626aa567-5deb-4523-ff42-1308c4c5815c"
      },
      "execution_count": null,
      "outputs": [
        {
          "output_type": "stream",
          "name": "stdout",
          "text": [
            "mora.\n",
            "kayah.\n",
            "see.\n",
            "med.\n",
            "ryah.\n",
            "reivangeldrie.\n",
            "caishadiel.\n",
            "izelynne.\n",
            "reigh.\n",
            "camanaraelyzimrones.\n",
            "noshubergiagriel.\n",
            "kinge.\n",
            "jenslee.\n",
            "promi.\n",
            "brence.\n",
            "ryyah.\n",
            "faek.\n",
            "yuma.\n",
            "mys.\n",
            "kyla.\n",
            "hal.\n",
            "salynn.\n",
            "ufia.\n",
            "jolie.\n",
            "ren.\n",
            "cry.\n",
            "kiviaosien.\n",
            "adir.\n",
            "horoe.\n",
            "bhigpeiva.\n"
          ]
        }
      ]
    },
    {
      "cell_type": "code",
      "source": [
        "emb.shape"
      ],
      "metadata": {
        "colab": {
          "base_uri": "https://localhost:8080/"
        },
        "id": "h-tN74zRkNiK",
        "outputId": "da18df93-2c56-4514-bbb1-24a3cfa9eb8f"
      },
      "execution_count": null,
      "outputs": [
        {
          "output_type": "execute_result",
          "data": {
            "text/plain": [
              "torch.Size([3, 10])"
            ]
          },
          "metadata": {},
          "execution_count": 285
        }
      ]
    }
  ]
}